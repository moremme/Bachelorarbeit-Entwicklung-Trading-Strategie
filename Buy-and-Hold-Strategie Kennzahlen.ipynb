{
 "cells": [
  {
   "cell_type": "code",
   "execution_count": 8,
   "id": "955cfa7b",
   "metadata": {},
   "outputs": [],
   "source": [
    "## Funktion, um die Standardabweichung der Renditen, und andere Kennzahlen, zur Buy-and-Hold-Strategie zu berechnen\n"
   ]
  },
  {
   "cell_type": "code",
   "execution_count": 7,
   "id": "98fee436",
   "metadata": {},
   "outputs": [
    {
     "name": "stdout",
     "output_type": "stream",
     "text": [
      "Durchschnittliche tägliche Rendite: 0.03110074%\n",
      "Standardabweichung der täglichen Renditen: 0.83474508%\n",
      "Annualisierte Standardabweichung: 13.25116727%\n",
      "Annualisierte Rendite (auf Basis von täglichen Renditen): 8.15137528%\n",
      "Annualisierte Rendite (auf Basis von Endwert): 6.80342854%\n"
     ]
    }
   ],
   "source": [
    "import pandas as pd\n",
    "\n",
    "file_path = 'C:\\\\Users\\\\Moritz\\\\Desktop\\\\Downloads\\\\SPXEW.csv' # die Daten sind von \"https://finance.yahoo.com/quote/%5ESPXEW/history/?period1=1425081600&period2=1519776000\"\n",
    "df = pd.read_csv(file_path)\n",
    "\n",
    "df['Date'] = pd.to_datetime(df['Date'])\n",
    "\n",
    "df.set_index('Date', inplace=True)\n",
    "\n",
    "# tägliche Rendite\n",
    "df['Daily Return'] = df['Close'].pct_change() * 100  # Umwandlung in Prozent\n",
    "\n",
    "# durchschnittliche tägliche Rendite\n",
    "avg_daily_return = df['Daily Return'].mean()\n",
    "\n",
    "# Standardabweichung der täglichen Renditen\n",
    "std_daily_return = df['Daily Return'].std()\n",
    "\n",
    "# Berechnung der annualisierten Rendite und der annualisierten Standardabweichung basierend auf täglichen Renditen\n",
    "trading_days_per_year = 252\n",
    "annualized_return_daily = ((1 + avg_daily_return / 100) ** trading_days_per_year - 1) * 100\n",
    "annualized_std = std_daily_return * (trading_days_per_year ** 0.5)\n",
    "\n",
    "# Berechnung der annualisierten Rendite\n",
    "start_value = df['Close'].iloc[0]\n",
    "end_value = 4078.82\n",
    "num_years = 3\n",
    "annualized_return_endvalue = ((end_value / start_value) ** (1 / num_years) - 1) * 100\n",
    "\n",
    "print(f'Durchschnittliche tägliche Rendite: {avg_daily_return:.8f}%')\n",
    "print(f'Standardabweichung der täglichen Renditen: {std_daily_return:.8f}%')\n",
    "print(f'Annualisierte Standardabweichung: {annualized_std:.8f}%')\n",
    "print(f'Annualisierte Rendite (auf Basis von täglichen Renditen): {annualized_return_daily:.8f}%')\n",
    "print(f'Annualisierte Rendite (auf Basis von Endwert): {annualized_return_endvalue:.8f}%')\n",
    "\n",
    "\n",
    "\n"
   ]
  },
  {
   "cell_type": "code",
   "execution_count": null,
   "id": "d015d2c7",
   "metadata": {},
   "outputs": [],
   "source": []
  }
 ],
 "metadata": {
  "kernelspec": {
   "display_name": "Python 3 (ipykernel)",
   "language": "python",
   "name": "python3"
  },
  "language_info": {
   "codemirror_mode": {
    "name": "ipython",
    "version": 3
   },
   "file_extension": ".py",
   "mimetype": "text/x-python",
   "name": "python",
   "nbconvert_exporter": "python",
   "pygments_lexer": "ipython3",
   "version": "3.11.4"
  }
 },
 "nbformat": 4,
 "nbformat_minor": 5
}
