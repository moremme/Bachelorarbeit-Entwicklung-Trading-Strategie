{
 "cells": [
  {
   "cell_type": "code",
   "execution_count": 1,
   "id": "c12034ac",
   "metadata": {},
   "outputs": [
    {
     "name": "stdout",
     "output_type": "stream",
     "text": [
      "Total rows: 378681\n",
      "Total values: 1893405\n"
     ]
    }
   ],
   "source": [
    "## Funktion um Anzahl von Datenpunkten und Datenreihen, im bestimmten Zeitraum zu zählen\n",
    "\n",
    "\n",
    "import os\n",
    "import pandas as pd\n",
    "\n",
    "def load_csv_to_dataframe(file_path, start_date, end_date):\n",
    "    df = pd.read_csv(file_path, parse_dates=True, index_col='date')\n",
    "    df.index = pd.to_datetime(df.index, errors='coerce')\n",
    "    df.dropna(inplace=True)\n",
    "    \n",
    "    df = df.loc[start_date:end_date]\n",
    "    return df\n",
    "\n",
    "data_dir = \"C:\\\\Users\\\\Moritz\\\\Desktop\\\\bereinigte SP500 Data\\\\survivorship-free-spy-master\\\\survivorship-free\\\\Datenlul\"\n",
    "\n",
    "tickers = [f.replace('.csv', '') for f in os.listdir(data_dir) if f.endswith('.csv')]\n",
    "\n",
    "start_date = \"2015-02-28\"\n",
    "end_date = \"2018-02-28\"\n",
    "\n",
    "total_rows = 0\n",
    "total_values = 0\n",
    "\n",
    "for ticker in tickers:\n",
    "    file_path = os.path.join(data_dir, ticker + '.csv')\n",
    "    df = load_csv_to_dataframe(file_path, start_date, end_date)\n",
    "    rows = len(df)\n",
    "    values = rows * df.shape[1]\n",
    "    \n",
    "    total_rows += rows\n",
    "    total_values += values\n",
    "\n",
    "print(f\"Total rows: {total_rows}\")\n",
    "print(f\"Total values: {total_values}\")\n"
   ]
  },
  {
   "cell_type": "code",
   "execution_count": null,
   "id": "c76ad6d9",
   "metadata": {},
   "outputs": [],
   "source": []
  }
 ],
 "metadata": {
  "kernelspec": {
   "display_name": "Python 3 (ipykernel)",
   "language": "python",
   "name": "python3"
  },
  "language_info": {
   "codemirror_mode": {
    "name": "ipython",
    "version": 3
   },
   "file_extension": ".py",
   "mimetype": "text/x-python",
   "name": "python",
   "nbconvert_exporter": "python",
   "pygments_lexer": "ipython3",
   "version": "3.11.4"
  }
 },
 "nbformat": 4,
 "nbformat_minor": 5
}
